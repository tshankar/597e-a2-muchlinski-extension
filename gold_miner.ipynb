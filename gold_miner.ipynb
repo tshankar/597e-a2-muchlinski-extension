{
  "nbformat": 4,
  "nbformat_minor": 0,
  "metadata": {
    "colab": {
      "provenance": [],
      "include_colab_link": true
    },
    "kernelspec": {
      "name": "python3",
      "display_name": "Python 3"
    },
    "language_info": {
      "name": "python"
    }
  },
  "cells": [
    {
      "cell_type": "markdown",
      "metadata": {
        "id": "view-in-github",
        "colab_type": "text"
      },
      "source": [
        "<a href=\"https://colab.research.google.com/github/tshankar/597e-a2-muchlinski-extension/blob/main/gold_miner.ipynb\" target=\"_parent\"><img src=\"https://colab.research.google.com/assets/colab-badge.svg\" alt=\"Open In Colab\"/></a>"
      ]
    },
    {
      "cell_type": "markdown",
      "source": [
        "[![PracticeProbs](https://d33wubrfki0l68.cloudfront.net/b6800cc830e3fd5a3a4c3d9cfb1137e6a4c15c77/ec467/assets/images/transparent-1.png)](https://www.practiceprobs.com/)"
      ],
      "metadata": {
        "id": "t1VEtnSjbu-d"
      }
    },
    {
      "cell_type": "markdown",
      "source": [
        "# [Gold Miner](https://www.practiceprobs.com/problemsets/python-numpy/beginner/gold-miner/)\n",
        "\n",
        "After binge watching the Discovery channel, you ditch your job as a trial lawyer to become a gold miner. You decide to prospect five locations underneath a 7x7 grid of land. How much gold do you uncover at each location?"
      ],
      "metadata": {
        "id": "M6yShpelZy-I"
      }
    },
    {
      "cell_type": "code",
      "source": [
        "import numpy as np\n",
        "\n",
        "np.random.seed(5555)\n",
        "gold = np.random.randint(low=0, high=10, size=(7,7))\n",
        "\n",
        "print(gold)\n",
        "# [[2 3 0 5 2 0 3]\n",
        "#  [8 8 0 7 1 5 3]\n",
        "#  [0 1 6 2 1 4 5]\n",
        "#  [4 0 8 9 9 8 7]\n",
        "#  [4 2 7 0 7 2 1]\n",
        "#  [9 8 9 2 5 0 8]\n",
        "#  [1 9 8 2 6 4 3]]\n",
        "\n",
        "locs = np.array([\n",
        "    [0,4],\n",
        "    [2,2],\n",
        "    [2,3],\n",
        "    [5,1],\n",
        "    [6,3]\n",
        "])"
      ],
      "metadata": {
        "colab": {
          "base_uri": "https://localhost:8080/"
        },
        "id": "ZlHN2R3QaPX3",
        "outputId": "36c62018-cf5d-4407-90b4-da37f69cf8ca"
      },
      "execution_count": 2,
      "outputs": [
        {
          "output_type": "stream",
          "name": "stdout",
          "text": [
            "[[2 3 0 5 2 0 3]\n",
            " [8 8 0 7 1 5 3]\n",
            " [0 1 6 2 1 4 5]\n",
            " [4 0 8 9 9 8 7]\n",
            " [4 2 7 0 7 2 1]\n",
            " [9 8 9 2 5 0 8]\n",
            " [1 9 8 2 6 4 3]]\n"
          ]
        }
      ]
    },
    {
      "cell_type": "markdown",
      "source": [
        "**Notes**\n",
        "\n",
        "- `gold` states how much gold is under each location in the 7x7 grid of land\n",
        "- `locs` states the coordinates of the five locations where you dig\n"
      ],
      "metadata": {
        "id": "xsPF49EvaBAM"
      }
    },
    {
      "cell_type": "markdown",
      "source": [
        "---"
      ],
      "metadata": {
        "id": "h7D8d-J5cela"
      }
    },
    {
      "cell_type": "code",
      "source": [
        "print(gold[0][3]) # Element at 1st row, 4th column\n",
        "print(gold[0, 3]) # Element at 1st row, 4th column\n",
        "\n",
        "print(gold[[0, 3]]) # Get the 1st row and the 4th row. This is an example \"advanced (fancy) indexing\" where the index is a list. Advanced indexing also allows for a boolean mask"
      ],
      "metadata": {
        "id": "CWwTWfYCa4k0",
        "outputId": "35099ae8-41d1-49ea-d438-5f3ef519cd8d",
        "colab": {
          "base_uri": "https://localhost:8080/"
        }
      },
      "execution_count": 13,
      "outputs": [
        {
          "output_type": "stream",
          "name": "stdout",
          "text": [
            "5\n",
            "5\n",
            "[[2 3 0 5 2 0 3]\n",
            " [4 0 8 9 9 8 7]]\n"
          ]
        }
      ]
    },
    {
      "cell_type": "markdown",
      "source": [
        "## [See our solution!](https://www.practiceprobs.com/problemsets/python-numpy/beginner/gold-miner/solution/)"
      ],
      "metadata": {
        "id": "bF3kvEc4a4It"
      }
    },
    {
      "cell_type": "code",
      "source": [
        "# Their solution\n",
        "gold[locs[:,0], locs[:,1]] # This is another example of fancy indexing\n",
        "\n",
        "# print(x[[0, 2], [1, 2]])  # This means select elements at (0,1) and (2,2)"
      ],
      "metadata": {
        "id": "Ctu0V3jpLy3i",
        "outputId": "bbf9e794-3e31-4399-9dff-8635f22823e8",
        "colab": {
          "base_uri": "https://localhost:8080/"
        }
      },
      "execution_count": 18,
      "outputs": [
        {
          "output_type": "execute_result",
          "data": {
            "text/plain": [
              "array([2, 6, 2, 8, 2])"
            ]
          },
          "metadata": {},
          "execution_count": 18
        }
      ]
    },
    {
      "cell_type": "code",
      "source": [],
      "metadata": {
        "id": "bpgExOBZA7aZ"
      },
      "execution_count": 17,
      "outputs": []
    }
  ]
}